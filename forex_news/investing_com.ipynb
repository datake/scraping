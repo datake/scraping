{
 "cells": [
  {
   "cell_type": "code",
   "execution_count": 40,
   "metadata": {
    "collapsed": false
   },
   "outputs": [
    {
     "name": "stdout",
     "output_type": "stream",
     "text": [
      "https://www.investing.com/currencies/eur-usd-news/1\n",
      "10\n",
      "https://www.investing.com/currencies/eur-usd-news/2\n",
      "10\n",
      "https://www.investing.com/currencies/eur-usd-news/3\n",
      "10\n",
      "https://www.investing.com/currencies/eur-usd-news/4\n",
      "10\n",
      "https://www.investing.com/currencies/eur-usd-news/5\n",
      "10\n",
      "https://www.investing.com/currencies/eur-usd-news/6\n",
      "10\n",
      "https://www.investing.com/currencies/eur-usd-news/7\n",
      "10\n",
      "https://www.investing.com/currencies/eur-usd-news/8\n",
      "10\n",
      "https://www.investing.com/currencies/eur-usd-news/9\n",
      "10\n",
      "9\n"
     ]
    }
   ],
   "source": [
    "import urllib\n",
    "from bs4 import BeautifulSoup\n",
    "from urllib.request import urlopen,Request\n",
    "from urllib.parse import urlparse\n",
    "import re\n",
    "import json\n",
    "import csv\n",
    "from urllib.error import HTTPError,URLError\n",
    "from time import sleep\n",
    "import pandas as pd\n",
    "from datetime import datetime\n",
    "\n",
    "# url収集\n",
    "def getTextFromHTML(ans, names):\n",
    "\tif ans == None:\n",
    "\t\treturn None\n",
    "\telse:\n",
    "\t\tans = ans.find(names[0],{names[1]:names[2]})\n",
    "\t\tif ans == None:\n",
    "\t\t\treturn None\n",
    "\treturn ans.get_text()\n",
    "key_tags_dict = {\n",
    "\t\"title\":[\"a\",\"class\",\"a-size-base a-link-normal author\"],\n",
    "\t\"url\":[\"span\",\"class\",\"a-size-base a-color-secondary review-date\"],\n",
    "}\n",
    "\n",
    "\n",
    "\n",
    "\n",
    "\n",
    "last_page=2292\n",
    "# https://www.investing.com/currencies/eur-usd-news/2292\n",
    "\n",
    "article_list = []\n",
    "for pageNum in range(1,last_page):\n",
    "    try:\n",
    "        site= \"https://www.investing.com/currencies/eur-usd-news/\" + str(pageNum)\n",
    "        print(site)\n",
    "        hdr = {'User-Agent': 'Mozilla/5.0'}\n",
    "        req = Request(site,headers=hdr)\n",
    "        html = urlopen(req)\n",
    "        bsObj = BeautifulSoup(html,\"lxml\")\n",
    "        # EUR/USD News 以下のdivの article item\n",
    "        articles = bsObj.find(\"div\",{\"class\":\"mediumTitle1\"}).findAll(\"article\",{\"class\":\"articleItem \"})\n",
    "\n",
    "#         print(articles)\n",
    "#         print(len(articles))\n",
    "        \n",
    "        for article in articles:\n",
    "            \n",
    "            title_obj = article.find(\"a\",{\"class\":\"title\"})\n",
    "#             print(title_obj)\n",
    "            \"\"\" example\n",
    "            <a class=\"title\" href=\"/news/forex-news/forex--dollar-steady-against-other-majors-ahead-of-us-inflation-data-528709\" title=\"Forex - Dollar Steady against Other Majors Ahead of U.S. Inflation Data\">\n",
    "            Forex - Dollar Steady against Other Majors Ahead of U.S. Inflation Data</a>\n",
    "            \"\"\"\n",
    "            title = title_obj.text\n",
    "            url = \"https://www.investing.com\"+title_obj.attrs['href']\n",
    "\n",
    "            \n",
    "            article_list.append([title,url])\n",
    "\n",
    "        sleep(1)\n",
    "    except HTTPError as e:\n",
    "        print(\"error : {0}\".format(e))\n",
    "\n",
    "print(pageNum)\n",
    "col_list = [\n",
    "\t\"title\",\n",
    "\t\"url\",\n",
    "]\n",
    "df_article = pd.DataFrame(article_list,columns = col_list)\n",
    "df_article.to_csv(\"article_\"+datetime.now().strftime('%Y-%m-%d')+str(len(df_article))+\".csv\")"
   ]
  },
  {
   "cell_type": "code",
   "execution_count": null,
   "metadata": {
    "collapsed": true
   },
   "outputs": [],
   "source": []
  },
  {
   "cell_type": "code",
   "execution_count": null,
   "metadata": {
    "collapsed": true
   },
   "outputs": [],
   "source": []
  },
  {
   "cell_type": "code",
   "execution_count": null,
   "metadata": {
    "collapsed": true
   },
   "outputs": [],
   "source": []
  },
  {
   "cell_type": "code",
   "execution_count": null,
   "metadata": {
    "collapsed": true
   },
   "outputs": [],
   "source": []
  },
  {
   "cell_type": "code",
   "execution_count": null,
   "metadata": {
    "collapsed": false
   },
   "outputs": [],
   "source": []
  },
  {
   "cell_type": "code",
   "execution_count": null,
   "metadata": {
    "collapsed": true
   },
   "outputs": [],
   "source": []
  }
 ],
 "metadata": {
  "kernelspec": {
   "display_name": "Python [Root]",
   "language": "python",
   "name": "Python [Root]"
  },
  "language_info": {
   "codemirror_mode": {
    "name": "ipython",
    "version": 3
   },
   "file_extension": ".py",
   "mimetype": "text/x-python",
   "name": "python",
   "nbconvert_exporter": "python",
   "pygments_lexer": "ipython3",
   "version": "3.5.1"
  }
 },
 "nbformat": 4,
 "nbformat_minor": 0
}
