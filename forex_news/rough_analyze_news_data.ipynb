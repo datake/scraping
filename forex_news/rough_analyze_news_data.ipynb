{
 "cells": [
  {
   "cell_type": "markdown",
   "metadata": {},
   "source": [
    "ニュースデータのマクロ分析\n",
    "- 文字の前処理\n",
    "- 時間の前処理\n",
    "\n",
    "\n",
    "- 参考\n",
    "https://github.com/takechanman1228/w2f-analysis/blob/master/macro-analysis-by-currency.ipynb"
   ]
  },
  {
   "cell_type": "code",
   "execution_count": 30,
   "metadata": {
    "collapsed": true
   },
   "outputs": [],
   "source": [
    "%matplotlib inline\n",
    "import pickle\n",
    "import pandas as pd\n",
    "import seaborn as sns"
   ]
  },
  {
   "cell_type": "code",
   "execution_count": 1,
   "metadata": {
    "collapsed": true
   },
   "outputs": [],
   "source": [
    "with open('df_content_list.pickle', mode='rb') as f:\n",
    "    news_df = pickle.load(f)\n",
    "news_df.columns = [\"datetime\",\"title\",\"content\"]"
   ]
  },
  {
   "cell_type": "code",
   "execution_count": 2,
   "metadata": {
    "collapsed": false
   },
   "outputs": [
    {
     "data": {
      "text/plain": [
       "11948"
      ]
     },
     "execution_count": 2,
     "metadata": {},
     "output_type": "execute_result"
    }
   ],
   "source": [
    "len(news_df)"
   ]
  },
  {
   "cell_type": "code",
   "execution_count": 3,
   "metadata": {
    "collapsed": false
   },
   "outputs": [
    {
     "data": {
      "text/html": [
       "<div>\n",
       "<table border=\"1\" class=\"dataframe\">\n",
       "  <thead>\n",
       "    <tr style=\"text-align: right;\">\n",
       "      <th></th>\n",
       "      <th>datetime</th>\n",
       "      <th>title</th>\n",
       "      <th>content</th>\n",
       "    </tr>\n",
       "  </thead>\n",
       "  <tbody>\n",
       "    <tr>\n",
       "      <th>0</th>\n",
       "      <td>Sep 14, 2017 03:37AM ET</td>\n",
       "      <td>Forex - Dollar Steady against Other Majors Ahe...</td>\n",
       "      <td>\\n\\n\\n© Reuters.  Dollar steady ahead of U.S. ...</td>\n",
       "    </tr>\n",
       "    <tr>\n",
       "      <th>1</th>\n",
       "      <td>Sep 13, 2017 01:23PM ET</td>\n",
       "      <td>Forex - Dollar at Highs, Shrugs off Weak Whole...</td>\n",
       "      <td>\\n\\n\\n© Reuters.  The dollar rose to session h...</td>\n",
       "    </tr>\n",
       "    <tr>\n",
       "      <th>2</th>\n",
       "      <td>Sep 13, 2017 10:52AM ET</td>\n",
       "      <td>Forex - Dollar Turns Broadly Higher on U.S. Ta...</td>\n",
       "      <td>\\n\\n\\n© Reuters.  Dollar bounces back as focus...</td>\n",
       "    </tr>\n",
       "    <tr>\n",
       "      <th>3</th>\n",
       "      <td>Sep 13, 2017 09:05AM ET</td>\n",
       "      <td>Forex - Dollar Little Changed after U.S. PPI Data</td>\n",
       "      <td>\\n\\n\\n© Reuters.  Dollar holds steady against ...</td>\n",
       "    </tr>\n",
       "    <tr>\n",
       "      <th>4</th>\n",
       "      <td>Sep 13, 2017 08:31AM ET</td>\n",
       "      <td>U.S. Producer Prices Rise Less than Expected i...</td>\n",
       "      <td>\\n\\n\\nU.S. PPI increases 0.2% in August vs. fo...</td>\n",
       "    </tr>\n",
       "  </tbody>\n",
       "</table>\n",
       "</div>"
      ],
      "text/plain": [
       "                  datetime                                              title  \\\n",
       "0  Sep 14, 2017 03:37AM ET  Forex - Dollar Steady against Other Majors Ahe...   \n",
       "1  Sep 13, 2017 01:23PM ET  Forex - Dollar at Highs, Shrugs off Weak Whole...   \n",
       "2  Sep 13, 2017 10:52AM ET  Forex - Dollar Turns Broadly Higher on U.S. Ta...   \n",
       "3  Sep 13, 2017 09:05AM ET  Forex - Dollar Little Changed after U.S. PPI Data   \n",
       "4  Sep 13, 2017 08:31AM ET  U.S. Producer Prices Rise Less than Expected i...   \n",
       "\n",
       "                                             content  \n",
       "0  \\n\\n\\n© Reuters.  Dollar steady ahead of U.S. ...  \n",
       "1  \\n\\n\\n© Reuters.  The dollar rose to session h...  \n",
       "2  \\n\\n\\n© Reuters.  Dollar bounces back as focus...  \n",
       "3  \\n\\n\\n© Reuters.  Dollar holds steady against ...  \n",
       "4  \\n\\n\\nU.S. PPI increases 0.2% in August vs. fo...  "
      ]
     },
     "execution_count": 3,
     "metadata": {},
     "output_type": "execute_result"
    }
   ],
   "source": [
    "news_df.head()"
   ]
  },
  {
   "cell_type": "code",
   "execution_count": 4,
   "metadata": {
    "collapsed": false
   },
   "outputs": [
    {
     "data": {
      "text/html": [
       "<div>\n",
       "<table border=\"1\" class=\"dataframe\">\n",
       "  <thead>\n",
       "    <tr style=\"text-align: right;\">\n",
       "      <th></th>\n",
       "      <th>datetime</th>\n",
       "      <th>title</th>\n",
       "      <th>content</th>\n",
       "    </tr>\n",
       "  </thead>\n",
       "  <tbody>\n",
       "    <tr>\n",
       "      <th>11943</th>\n",
       "      <td>Feb 21, 2013 04:48AM ET</td>\n",
       "      <td>Forex - EUR/USD pushes lower on downbeat E.Z. ...</td>\n",
       "      <td>\\n\\n\\n\\n\\n\\n\\n    Investing.com - The euro pus...</td>\n",
       "    </tr>\n",
       "    <tr>\n",
       "      <th>11944</th>\n",
       "      <td>Feb 21, 2013 04:03AM ET</td>\n",
       "      <td>Euro zone manufacturing PMI falls to 47.8 in F...</td>\n",
       "      <td>\\n\\n\\n\\n\\n\\n\\n    Investing.com - Manufacturin...</td>\n",
       "    </tr>\n",
       "    <tr>\n",
       "      <th>11945</th>\n",
       "      <td>Feb 21, 2013 03:47AM ET</td>\n",
       "      <td>Forex - EUR/USD extends losses after French, G...</td>\n",
       "      <td>\\n\\n    Investing.com - The euro extended loss...</td>\n",
       "    </tr>\n",
       "    <tr>\n",
       "      <th>11946</th>\n",
       "      <td>Feb 21, 2013 03:33AM ET</td>\n",
       "      <td>German manufacturing PMI improves to 50.1</td>\n",
       "      <td>\\n\\n\\n\\n\\n\\n\\n    Investing.com - Manufacturin...</td>\n",
       "    </tr>\n",
       "    <tr>\n",
       "      <th>11947</th>\n",
       "      <td>Feb 21, 2013 03:02AM ET</td>\n",
       "      <td>French manufacturing PMI rises to 43.6 in Febr...</td>\n",
       "      <td>\\n\\n\\n\\n\\n\\n\\n    Investing.com - Manufacturin...</td>\n",
       "    </tr>\n",
       "  </tbody>\n",
       "</table>\n",
       "</div>"
      ],
      "text/plain": [
       "                      datetime  \\\n",
       "11943  Feb 21, 2013 04:48AM ET   \n",
       "11944  Feb 21, 2013 04:03AM ET   \n",
       "11945  Feb 21, 2013 03:47AM ET   \n",
       "11946  Feb 21, 2013 03:33AM ET   \n",
       "11947  Feb 21, 2013 03:02AM ET   \n",
       "\n",
       "                                                   title  \\\n",
       "11943  Forex - EUR/USD pushes lower on downbeat E.Z. ...   \n",
       "11944  Euro zone manufacturing PMI falls to 47.8 in F...   \n",
       "11945  Forex - EUR/USD extends losses after French, G...   \n",
       "11946          German manufacturing PMI improves to 50.1   \n",
       "11947  French manufacturing PMI rises to 43.6 in Febr...   \n",
       "\n",
       "                                                 content  \n",
       "11943  \\n\\n\\n\\n\\n\\n\\n    Investing.com - The euro pus...  \n",
       "11944  \\n\\n\\n\\n\\n\\n\\n    Investing.com - Manufacturin...  \n",
       "11945  \\n\\n    Investing.com - The euro extended loss...  \n",
       "11946  \\n\\n\\n\\n\\n\\n\\n    Investing.com - Manufacturin...  \n",
       "11947  \\n\\n\\n\\n\\n\\n\\n    Investing.com - Manufacturin...  "
      ]
     },
     "execution_count": 4,
     "metadata": {},
     "output_type": "execute_result"
    }
   ],
   "source": [
    "news_df.tail()"
   ]
  },
  {
   "cell_type": "code",
   "execution_count": 5,
   "metadata": {
    "collapsed": false
   },
   "outputs": [
    {
     "data": {
      "text/plain": [
       "\"\\n\\n\\n© Reuters.  Dollar steady ahead of U.S. inflation data\\n\\n\\n\\nInvesting.com - The dollar was steady against a basket of the other major currencies on Thursday as investor’s awaited data on U.S. consumer inflation later in the day for fresh indications on whether the Federal Reserve will hike rates again this year.\\nThe U.S. dollar index, which measures the greenback’s strength against a trade-weighted basket of six major currencies, was at 91.39 by 03:21 AM ET (07:21 GMT).\\nThe index has risen 1.14% so far this week, rebounding from last week’s more than two-year lows amid a relief rally spurred by diminished worries over North Korea’s nuclear program and the economic impact of Hurricane Irma.\\nFresh hopes for the Trump's administrations plans for a tax overhaul helped support the dollar on Wednesday.\\nMeanwhile, data on Wednesday showed that while U.S. producer prices rose slightly in August inflation pressures remained tepid, a potential obstacle to the Fed’s plans to raise interest rates.\\nThe report on consumer prices later Thursday will be closely watched as the Fed considers whether to raise rates again before the years end.\\nThe dollar dipped against the yen, with USD/JPY last at 110.36.\\nThe euro was a touch higher, with EUR/USD at 1.1894, holding below last Friday’s two-and-a-half year highs of 1.2091.\\nSterling also edged higher, with GBP/USD at 1.3222 ahead of the Bank of England’s policy meeting later in the day.\\nThe pound retreated from one-year highs against the dollar on Wednesday after the latest UK employment report showed that wage growth remained sluggish, adding to fears over a squeeze on living standards.\\nWith inflation outstripping pay growth the squeeze on the cost of living is getting worse, which will likely deter the BoE from raising interest rates.\\nThe Australian dollar was higher with AUD/USD up 0.24% at 0.8004 after domestic employment data, but gains were held in check by lackluster economic data from China, one of the country’s largest trading partners. \\n\\n\\n                sponsoredArticle = 'div-gpt-ad-1466339494851-0';\\n            \\n\\n\""
      ]
     },
     "execution_count": 5,
     "metadata": {},
     "output_type": "execute_result"
    }
   ],
   "source": [
    "# 前処理\n",
    "# \\n , copyrightmark, sponsoredArticle\n",
    "news_df[\"content\"][0]"
   ]
  },
  {
   "cell_type": "code",
   "execution_count": 6,
   "metadata": {
    "collapsed": false
   },
   "outputs": [],
   "source": [
    "# to lower case\n",
    "aaa=news_df[\"content\"].str.lower()\n",
    "bbb=aaa.str.replace(r'sponsoredarticle.+\\n', '')\n",
    "ccc=bbb.str.replace('[\\xA9]\\s\\S+', '')\n",
    "ddd=ccc.str.replace('\\n', ' ')\n",
    "#TODO:stopword"
   ]
  },
  {
   "cell_type": "code",
   "execution_count": 7,
   "metadata": {
    "collapsed": false
   },
   "outputs": [
    {
     "data": {
      "text/plain": [
       "\"     dollar steady ahead of u.s. inflation data    investing.com - the dollar was steady against a basket of the other major currencies on thursday as investor’s awaited data on u.s. consumer inflation later in the day for fresh indications on whether the federal reserve will hike rates again this year. the u.s. dollar index, which measures the greenback’s strength against a trade-weighted basket of six major currencies, was at 91.39 by 03:21 am et (07:21 gmt). the index has risen 1.14% so far this week, rebounding from last week’s more than two-year lows amid a relief rally spurred by diminished worries over north korea’s nuclear program and the economic impact of hurricane irma. fresh hopes for the trump's administrations plans for a tax overhaul helped support the dollar on wednesday. meanwhile, data on wednesday showed that while u.s. producer prices rose slightly in august inflation pressures remained tepid, a potential obstacle to the fed’s plans to raise interest rates. the report on consumer prices later thursday will be closely watched as the fed considers whether to raise rates again before the years end. the dollar dipped against the yen, with usd/jpy last at 110.36. the euro was a touch higher, with eur/usd at 1.1894, holding below last friday’s two-and-a-half year highs of 1.2091. sterling also edged higher, with gbp/usd at 1.3222 ahead of the bank of england’s policy meeting later in the day. the pound retreated from one-year highs against the dollar on wednesday after the latest uk employment report showed that wage growth remained sluggish, adding to fears over a squeeze on living standards. with inflation outstripping pay growth the squeeze on the cost of living is getting worse, which will likely deter the boe from raising interest rates. the australian dollar was higher with aud/usd up 0.24% at 0.8004 after domestic employment data, but gains were held in check by lackluster economic data from china, one of the country’s largest trading partners.                                  \""
      ]
     },
     "execution_count": 7,
     "metadata": {},
     "output_type": "execute_result"
    }
   ],
   "source": [
    "ddd[0]"
   ]
  },
  {
   "cell_type": "code",
   "execution_count": 9,
   "metadata": {
    "collapsed": false
   },
   "outputs": [
    {
     "data": {
      "text/html": [
       "<div>\n",
       "<table border=\"1\" class=\"dataframe\">\n",
       "  <thead>\n",
       "    <tr style=\"text-align: right;\">\n",
       "      <th></th>\n",
       "      <th>datetime</th>\n",
       "      <th>title</th>\n",
       "      <th>content</th>\n",
       "    </tr>\n",
       "  </thead>\n",
       "  <tbody>\n",
       "    <tr>\n",
       "      <th>0</th>\n",
       "      <td>Sep 14, 2017 03:37AM ET</td>\n",
       "      <td>Forex - Dollar Steady against Other Majors Ahe...</td>\n",
       "      <td>dollar steady ahead of u.s. inflation dat...</td>\n",
       "    </tr>\n",
       "    <tr>\n",
       "      <th>1</th>\n",
       "      <td>Sep 13, 2017 01:23PM ET</td>\n",
       "      <td>Forex - Dollar at Highs, Shrugs off Weak Whole...</td>\n",
       "      <td>the dollar rose to session highs on wedne...</td>\n",
       "    </tr>\n",
       "    <tr>\n",
       "      <th>2</th>\n",
       "      <td>Sep 13, 2017 10:52AM ET</td>\n",
       "      <td>Forex - Dollar Turns Broadly Higher on U.S. Ta...</td>\n",
       "      <td>dollar bounces back as focus turns to u.s...</td>\n",
       "    </tr>\n",
       "    <tr>\n",
       "      <th>3</th>\n",
       "      <td>Sep 13, 2017 09:05AM ET</td>\n",
       "      <td>Forex - Dollar Little Changed after U.S. PPI Data</td>\n",
       "      <td>dollar holds steady against currency bask...</td>\n",
       "    </tr>\n",
       "    <tr>\n",
       "      <th>4</th>\n",
       "      <td>Sep 13, 2017 08:31AM ET</td>\n",
       "      <td>U.S. Producer Prices Rise Less than Expected i...</td>\n",
       "      <td>u.s. ppi increases 0.2% in august vs. forec...</td>\n",
       "    </tr>\n",
       "  </tbody>\n",
       "</table>\n",
       "</div>"
      ],
      "text/plain": [
       "                  datetime                                              title  \\\n",
       "0  Sep 14, 2017 03:37AM ET  Forex - Dollar Steady against Other Majors Ahe...   \n",
       "1  Sep 13, 2017 01:23PM ET  Forex - Dollar at Highs, Shrugs off Weak Whole...   \n",
       "2  Sep 13, 2017 10:52AM ET  Forex - Dollar Turns Broadly Higher on U.S. Ta...   \n",
       "3  Sep 13, 2017 09:05AM ET  Forex - Dollar Little Changed after U.S. PPI Data   \n",
       "4  Sep 13, 2017 08:31AM ET  U.S. Producer Prices Rise Less than Expected i...   \n",
       "\n",
       "                                             content  \n",
       "0       dollar steady ahead of u.s. inflation dat...  \n",
       "1       the dollar rose to session highs on wedne...  \n",
       "2       dollar bounces back as focus turns to u.s...  \n",
       "3       dollar holds steady against currency bask...  \n",
       "4     u.s. ppi increases 0.2% in august vs. forec...  "
      ]
     },
     "execution_count": 9,
     "metadata": {},
     "output_type": "execute_result"
    }
   ],
   "source": [
    "news_df[\"content\"]=ddd\n",
    "news_df.head()"
   ]
  },
  {
   "cell_type": "code",
   "execution_count": 13,
   "metadata": {
    "collapsed": false
   },
   "outputs": [],
   "source": [
    "news_df[\"datetime\"]=pd.to_datetime(news_df[\"datetime\"])"
   ]
  },
  {
   "cell_type": "code",
   "execution_count": 14,
   "metadata": {
    "collapsed": true
   },
   "outputs": [],
   "source": [
    "news_df_sort_by_time=news_df.sort_values(by=\"datetime\")"
   ]
  },
  {
   "cell_type": "code",
   "execution_count": 25,
   "metadata": {
    "collapsed": false
   },
   "outputs": [],
   "source": [
    "news_df_during_period = news_df_sort_by_time\n",
    "# TODO あとで調節\n",
    "# news_df_during_period=news_df_sort_by_time[(news_df_sort_by_time['datetime']>\"2013-01-01 00:00:00\") & (news_df_sort_by_time['datetime']<\"2015-12-31 00:00:00\")]"
   ]
  },
  {
   "cell_type": "code",
   "execution_count": 26,
   "metadata": {
    "collapsed": false
   },
   "outputs": [],
   "source": [
    "news_df_during_period[\"date_year\"]=news_df_during_period.apply(lambda x: x['datetime'].year, axis=1)\n",
    "news_df_during_period[\"date_month\"]=news_df_during_period.apply(lambda x: x['datetime'].month, axis=1)\n",
    "# https://pandas.pydata.org/pandas-docs/stable/generated/pandas.DatetimeIndex.dayofweek.html\n",
    "# weekは52週の何週目か\n",
    "news_df_during_period[\"date_week\"]=news_df_during_period.apply(lambda x: x['datetime'].dayofweek, axis=1)\n",
    "news_df_during_period[\"date_day\"]=news_df_during_period.apply(lambda x: x['datetime'].day, axis=1)\n",
    "news_df_during_period[\"date_hour\"]=news_df_during_period.apply(lambda x: x['datetime'].hour, axis=1)\n",
    "news_df_during_period[\"date_min\"]=news_df_during_period.apply(lambda x: x['datetime'].minute, axis=1)"
   ]
  },
  {
   "cell_type": "code",
   "execution_count": 23,
   "metadata": {
    "collapsed": false
   },
   "outputs": [
    {
     "data": {
      "text/html": [
       "<div>\n",
       "<table border=\"1\" class=\"dataframe\">\n",
       "  <thead>\n",
       "    <tr style=\"text-align: right;\">\n",
       "      <th></th>\n",
       "      <th>datetime</th>\n",
       "      <th>title</th>\n",
       "      <th>content</th>\n",
       "      <th>date_year</th>\n",
       "      <th>date_month</th>\n",
       "      <th>date_week</th>\n",
       "      <th>date_day</th>\n",
       "      <th>date_hour</th>\n",
       "      <th>date_min</th>\n",
       "    </tr>\n",
       "  </thead>\n",
       "  <tbody>\n",
       "    <tr>\n",
       "      <th>11947</th>\n",
       "      <td>2013-02-21 03:02:00</td>\n",
       "      <td>French manufacturing PMI rises to 43.6 in Febr...</td>\n",
       "      <td>investing.com - manufacturing activ...</td>\n",
       "      <td>2013</td>\n",
       "      <td>2</td>\n",
       "      <td>8</td>\n",
       "      <td>21</td>\n",
       "      <td>3</td>\n",
       "      <td>2</td>\n",
       "    </tr>\n",
       "    <tr>\n",
       "      <th>11946</th>\n",
       "      <td>2013-02-21 03:33:00</td>\n",
       "      <td>German manufacturing PMI improves to 50.1</td>\n",
       "      <td>investing.com - manufacturing activ...</td>\n",
       "      <td>2013</td>\n",
       "      <td>2</td>\n",
       "      <td>8</td>\n",
       "      <td>21</td>\n",
       "      <td>3</td>\n",
       "      <td>33</td>\n",
       "    </tr>\n",
       "    <tr>\n",
       "      <th>11945</th>\n",
       "      <td>2013-02-21 03:47:00</td>\n",
       "      <td>Forex - EUR/USD extends losses after French, G...</td>\n",
       "      <td>investing.com - the euro extended losses...</td>\n",
       "      <td>2013</td>\n",
       "      <td>2</td>\n",
       "      <td>8</td>\n",
       "      <td>21</td>\n",
       "      <td>3</td>\n",
       "      <td>47</td>\n",
       "    </tr>\n",
       "    <tr>\n",
       "      <th>11944</th>\n",
       "      <td>2013-02-21 04:03:00</td>\n",
       "      <td>Euro zone manufacturing PMI falls to 47.8 in F...</td>\n",
       "      <td>investing.com - manufacturing activ...</td>\n",
       "      <td>2013</td>\n",
       "      <td>2</td>\n",
       "      <td>8</td>\n",
       "      <td>21</td>\n",
       "      <td>4</td>\n",
       "      <td>3</td>\n",
       "    </tr>\n",
       "    <tr>\n",
       "      <th>11943</th>\n",
       "      <td>2013-02-21 04:48:00</td>\n",
       "      <td>Forex - EUR/USD pushes lower on downbeat E.Z. ...</td>\n",
       "      <td>investing.com - the euro pushed low...</td>\n",
       "      <td>2013</td>\n",
       "      <td>2</td>\n",
       "      <td>8</td>\n",
       "      <td>21</td>\n",
       "      <td>4</td>\n",
       "      <td>48</td>\n",
       "    </tr>\n",
       "  </tbody>\n",
       "</table>\n",
       "</div>"
      ],
      "text/plain": [
       "                 datetime                                              title  \\\n",
       "11947 2013-02-21 03:02:00  French manufacturing PMI rises to 43.6 in Febr...   \n",
       "11946 2013-02-21 03:33:00          German manufacturing PMI improves to 50.1   \n",
       "11945 2013-02-21 03:47:00  Forex - EUR/USD extends losses after French, G...   \n",
       "11944 2013-02-21 04:03:00  Euro zone manufacturing PMI falls to 47.8 in F...   \n",
       "11943 2013-02-21 04:48:00  Forex - EUR/USD pushes lower on downbeat E.Z. ...   \n",
       "\n",
       "                                                 content  date_year  \\\n",
       "11947             investing.com - manufacturing activ...       2013   \n",
       "11946             investing.com - manufacturing activ...       2013   \n",
       "11945        investing.com - the euro extended losses...       2013   \n",
       "11944             investing.com - manufacturing activ...       2013   \n",
       "11943             investing.com - the euro pushed low...       2013   \n",
       "\n",
       "       date_month  date_week  date_day  date_hour  date_min  \n",
       "11947           2          8        21          3         2  \n",
       "11946           2          8        21          3        33  \n",
       "11945           2          8        21          3        47  \n",
       "11944           2          8        21          4         3  \n",
       "11943           2          8        21          4        48  "
      ]
     },
     "execution_count": 23,
     "metadata": {},
     "output_type": "execute_result"
    }
   ],
   "source": [
    "news_df_during_period.head()"
   ]
  },
  {
   "cell_type": "code",
   "execution_count": 34,
   "metadata": {
    "collapsed": false
   },
   "outputs": [
    {
     "data": {
      "text/plain": [
       "<matplotlib.axes._subplots.AxesSubplot at 0x12596ffd0>"
      ]
     },
     "execution_count": 34,
     "metadata": {},
     "output_type": "execute_result"
    },
    {
     "data": {
      "image/png": "[encoded data removed]",
      "text/plain": [
       "<matplotlib.figure.Figure at 0x125980a58>"
      ]
     },
     "metadata": {},
     "output_type": "display_data"
    }
   ],
   "source": [
    "news_df_during_period[\"date_year\"].hist(bins=5)"
   ]
  },
  {
   "cell_type": "code",
   "execution_count": 37,
   "metadata": {
    "collapsed": false
   },
   "outputs": [
    {
     "data": {
      "text/plain": [
       "<matplotlib.axes._subplots.AxesSubplot at 0x1260019b0>"
      ]
     },
     "execution_count": 37,
     "metadata": {},
     "output_type": "execute_result"
    },
    {
     "data": {
      "image/png": "[encoded data removed]",
      "text/plain": [
       "<matplotlib.figure.Figure at 0x125fe7080>"
      ]
     },
     "metadata": {},
     "output_type": "display_data"
    }
   ],
   "source": [
    "news_df_during_period[\"date_month\"].hist(bins=12)"
   ]
  },
  {
   "cell_type": "code",
   "execution_count": 38,
   "metadata": {
    "collapsed": false
   },
   "outputs": [
    {
     "data": {
      "text/plain": [
       "<matplotlib.axes._subplots.AxesSubplot at 0x126148198>"
      ]
     },
     "execution_count": 38,
     "metadata": {},
     "output_type": "execute_result"
    },
    {
     "data": {
      "image/png": "[encoded data removed]",
      "text/plain": [
       "<matplotlib.figure.Figure at 0x126032828>"
      ]
     },
     "metadata": {},
     "output_type": "display_data"
    }
   ],
   "source": [
    "news_df_during_period[\"date_week\"].hist(bins=7)"
   ]
  },
  {
   "cell_type": "code",
   "execution_count": 41,
   "metadata": {
    "collapsed": false
   },
   "outputs": [
    {
     "data": {
      "text/plain": [
       "<matplotlib.axes._subplots.AxesSubplot at 0x12635ca58>"
      ]
     },
     "execution_count": 41,
     "metadata": {},
     "output_type": "execute_result"
    },
    {
     "data": {
      "image/png": "[encoded data removed]",
      "text/plain": [
       "<matplotlib.figure.Figure at 0x1263b5588>"
      ]
     },
     "metadata": {},
     "output_type": "display_data"
    }
   ],
   "source": [
    "news_df_during_period[\"date_hour\"].hist(bins=24)"
   ]
  },
  {
   "cell_type": "code",
   "execution_count": 42,
   "metadata": {
    "collapsed": false
   },
   "outputs": [
    {
     "data": {
      "text/plain": [
       "<matplotlib.axes._subplots.AxesSubplot at 0x10c710e10>"
      ]
     },
     "execution_count": 42,
     "metadata": {},
     "output_type": "execute_result"
    },
    {
     "data": {
      "image/png": "[encoded data removed]",
      "text/plain": [
       "<matplotlib.figure.Figure at 0x12635c9b0>"
      ]
     },
     "metadata": {},
     "output_type": "display_data"
    }
   ],
   "source": [
    "news_df_during_period[\"date_min\"].hist(bins=60)\n",
    "# 時間がかたまっていないのでよさそう"
   ]
  },
  {
   "cell_type": "code",
   "execution_count": 44,
   "metadata": {
    "collapsed": false
   },
   "outputs": [],
   "source": [
    "with open('news_df.pickle', mode='wb') as f:\n",
    "    pickle.dump(news_df_during_period, f)"
   ]
  },
  {
   "cell_type": "code",
   "execution_count": null,
   "metadata": {
    "collapsed": true
   },
   "outputs": [],
   "source": []
  },
  {
   "cell_type": "code",
   "execution_count": null,
   "metadata": {
    "collapsed": true
   },
   "outputs": [],
   "source": []
  }
 ],
 "metadata": {
  "anaconda-cloud": {},
  "kernelspec": {
   "display_name": "Python [Root]",
   "language": "python",
   "name": "Python [Root]"
  },
  "language_info": {
   "codemirror_mode": {
    "name": "ipython",
    "version": 3
   },
   "file_extension": ".py",
   "mimetype": "text/x-python",
   "name": "python",
   "nbconvert_exporter": "python",
   "pygments_lexer": "ipython3",
   "version": "3.5.1"
  }
 },
 "nbformat": 4,
 "nbformat_minor": 0
}
